{
 "cells": [
  {
   "cell_type": "code",
   "execution_count": 3,
   "id": "45dfa66d",
   "metadata": {},
   "outputs": [
    {
     "name": "stdout",
     "output_type": "stream",
     "text": [
      "Nikshith Shettigar\n"
     ]
    }
   ],
   "source": [
    "print(\"Nikshith Shettigar\")"
   ]
  },
  {
   "cell_type": "code",
   "execution_count": null,
   "id": "acd08c07",
   "metadata": {},
   "outputs": [],
   "source": [
    "ctrl+enter - execute/run the cell\n",
    "shift+enter - execute/run the cell\n",
    "\n",
    "ctrl+a - add a cell above current cell\n",
    "ctrl+b - add a cell below current cell\n",
    "ctrl+d+d - delete the selected cell"
   ]
  },
  {
   "cell_type": "code",
   "execution_count": 4,
   "id": "98cf1c9d",
   "metadata": {},
   "outputs": [
    {
     "data": {
      "text/plain": [
       "5"
      ]
     },
     "execution_count": 4,
     "metadata": {},
     "output_type": "execute_result"
    }
   ],
   "source": [
    "15-10"
   ]
  }
 ],
 "metadata": {
  "kernelspec": {
   "display_name": "Python 3 (ipykernel)",
   "language": "python",
   "name": "python3"
  },
  "language_info": {
   "codemirror_mode": {
    "name": "ipython",
    "version": 3
   },
   "file_extension": ".py",
   "mimetype": "text/x-python",
   "name": "python",
   "nbconvert_exporter": "python",
   "pygments_lexer": "ipython3",
   "version": "3.11.5"
  }
 },
 "nbformat": 4,
 "nbformat_minor": 5
}
